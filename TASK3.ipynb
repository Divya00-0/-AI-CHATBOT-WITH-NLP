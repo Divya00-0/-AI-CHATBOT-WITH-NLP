{
  "nbformat": 4,
  "nbformat_minor": 0,
  "metadata": {
    "colab": {
      "provenance": []
    },
    "kernelspec": {
      "name": "python3",
      "display_name": "Python 3"
    },
    "language_info": {
      "name": "python"
    }
  },
  "cells": [
    {
      "cell_type": "markdown",
      "source": [
        "Task-3\n",
        "AI CHATBOT\n",
        " WITH NLP"
      ],
      "metadata": {
        "id": "zPdJbane1pJo"
      }
    },
    {
      "cell_type": "code",
      "source": [
        "import nltk\n",
        "import spacy\n",
        "from nltk.chat.util import Chat, reflections\n",
        "\n",
        "# Download necessary NLTK resources (if you haven't done it already)\n",
        "nltk.download('punkt')\n",
        "\n",
        "# Define chatbot patterns and responses\n",
        "pairs = [\n",
        "    (r\"hi|hello|hey\", [\"Hello! How can I assist you today?\"]),\n",
        "    (r\"how are you?\", [\"I'm doing great, thank you! How can I help you?\"]),\n",
        "    (r\"bye\", [\"Goodbye! Have a great day!\"]),\n",
        "    (r\"(.*)(help|support)(.*)\", [\"I'm here to help! What do you need assistance with?\"]),\n",
        "    (r\"(.*) your name ?\", [\"I'm a chatbot created to assist you. You can call me 'ChatBot.'\"]),\n",
        "    (r\"(.*) (who are you|what are you)\", [\"I am an AI-powered chatbot built with NLP to assist you.\"]),\n",
        "    (r\"(.*) (your favorite color|color)\", [\"I don't have preferences, but blue is often a popular color.\"]),\n",
        "    (r\"(.*)\", [\"I'm sorry, I didn't quite understand that. Could you please rephrase?\"]),\n",
        "]\n",
        "\n",
        "# Define the Chatbot class using NLTK's Chat class\n",
        "class SimpleChatBot:\n",
        "    def __init__(self):\n",
        "        self.chatbot = Chat(pairs, reflections)\n",
        "\n",
        "    def respond(self, user_input):\n",
        "        return self.chatbot.respond(user_input)\n",
        "\n",
        "# Set up SpaCy for entity extraction (Optional)\n",
        "nlp = spacy.load('en_core_web_sm')\n",
        "\n",
        "def get_entities(text):\n",
        "    doc = nlp(text)\n",
        "    entities = [(entity.text, entity.label_) for entity in doc.ents]\n",
        "    return entities\n",
        "\n",
        "# Main function to run the chatbot\n",
        "if __name__ == \"__main__\":\n",
        "    chatbot = SimpleChatBot()\n",
        "    print(\"Hello! I'm here to assist you. Type 'bye' to end the conversation.\")\n",
        "\n",
        "    while True:\n",
        "        user_input = input(\"You: \")\n",
        "        response = chatbot.respond(user_input)\n",
        "        print(\"ChatBot: \" + response)\n",
        "\n",
        "        # Optional: Extract entities from user input\n",
        "        entities = get_entities(user_input)\n",
        "        if entities:\n",
        "            print(f\"ChatBot (Entities): {entities}\")\n",
        "\n",
        "        if user_input.lower() == \"bye\":\n",
        "            break"
      ],
      "metadata": {
        "colab": {
          "base_uri": "https://localhost:8080/"
        },
        "id": "kTm9cP6W1sIe",
        "outputId": "6b6d5598-2f28-4573-9d3a-72f51077deb8"
      },
      "execution_count": null,
      "outputs": [
        {
          "output_type": "stream",
          "name": "stderr",
          "text": [
            "[nltk_data] Downloading package punkt to /root/nltk_data...\n",
            "[nltk_data]   Unzipping tokenizers/punkt.zip.\n"
          ]
        },
        {
          "output_type": "stream",
          "name": "stdout",
          "text": [
            "Hello! I'm here to assist you. Type 'bye' to end the conversation.\n",
            "You: hi\n",
            "ChatBot: Hello! How can I assist you today?\n",
            "You: how are you\n",
            "ChatBot: I'm doing great, thank you! How can I help you?\n",
            "You: bye\n",
            "ChatBot: Goodbye! Have a great day!\n"
          ]
        }
      ]
    }
  ]
}